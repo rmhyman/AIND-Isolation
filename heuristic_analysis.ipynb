{
 "cells": [
  {
   "cell_type": "markdown",
   "metadata": {},
   "source": [
    "# Heuristic Analysis\n",
    "\n",
    "In this analysis report, we analyze results of the three heuristics that were developed for the Isolation Game Agent project.  The process that is illustrated below performs the following actions for each heuristic:\n",
    "- Extract the Win ratio results from 10 test runs that was captured in the log file that was generated during the simulation runs\n",
    "- Combine the data into a Dataframe for analysis and visualization\n",
    "\n",
    "We complete the report by giving a recommendation based on the analysis performed.  Below are a few helper functions that are used throughout the analysis process."
   ]
  },
  {
   "cell_type": "code",
   "execution_count": 8,
   "metadata": {
    "collapsed": false
   },
   "outputs": [],
   "source": [
    "import re\n",
    "import pandas as pd\n",
    "%matplotlib inline\n",
    "\n",
    "def extract_results(filename):\n",
    "    with open(filename,'r') as rf:\n",
    "        lines = rf.readlines()\n",
    "        id_results = [line for i,line in enumerate(lines) if i % 4 == 1 ]\n",
    "        student_results = [line for i,line in enumerate(lines) if i % 4 == 3 ]\n",
    "        return id_results,student_results\n",
    "\n",
    "def get_win_ratios(l):\n",
    "    tmp = []\n",
    "    for line in l:\n",
    "        score = re.compile(r'(ID_Improved|Student):([0-9\\.]+).*')\n",
    "        m = score.match(line)\n",
    "        if m:\n",
    "            tmp.append(m.group(2))\n",
    "    return tmp\n",
    "\n",
    "def build_dict(filename):\n",
    "    id_results,student_results = extract_results(filename)\n",
    "    id_results = get_win_ratios(id_results)\n",
    "    student_results = get_win_ratios(student_results)\n",
    "    ids = [i for i in range(1,11)]\n",
    "    df = {'Test Run': ids, 'ID_Improved':id_results, 'Student':student_results}\n",
    "    return df"
   ]
  },
  {
   "cell_type": "markdown",
   "metadata": {},
   "source": [
    "## Hueristic 1: Number of Overlapping moves\n",
    "\n",
    "For this heuristic, we calculate the number of overlapping moves that our agent has in common with our opponent.  The intuition here was that if there are moves that both the agents can take in the future, we want to try to eliminate those options from our opponent, reducing the number of legal moves they would have in the future.\n",
    "\n"
   ]
  },
  {
   "cell_type": "code",
   "execution_count": 17,
   "metadata": {
    "collapsed": false
   },
   "outputs": [
    {
     "data": {
      "text/html": [
       "<div>\n",
       "<table border=\"1\" class=\"dataframe\">\n",
       "  <thead>\n",
       "    <tr style=\"text-align: right;\">\n",
       "      <th></th>\n",
       "      <th>ID_Improved</th>\n",
       "      <th>Student</th>\n",
       "    </tr>\n",
       "  </thead>\n",
       "  <tbody>\n",
       "    <tr>\n",
       "      <th>count</th>\n",
       "      <td>10.000000</td>\n",
       "      <td>10.000000</td>\n",
       "    </tr>\n",
       "    <tr>\n",
       "      <th>mean</th>\n",
       "      <td>41.785714</td>\n",
       "      <td>41.214286</td>\n",
       "    </tr>\n",
       "    <tr>\n",
       "      <th>std</th>\n",
       "      <td>2.842223</td>\n",
       "      <td>3.883946</td>\n",
       "    </tr>\n",
       "    <tr>\n",
       "      <th>min</th>\n",
       "      <td>37.857143</td>\n",
       "      <td>34.285714</td>\n",
       "    </tr>\n",
       "    <tr>\n",
       "      <th>25%</th>\n",
       "      <td>39.285714</td>\n",
       "      <td>38.928571</td>\n",
       "    </tr>\n",
       "    <tr>\n",
       "      <th>50%</th>\n",
       "      <td>42.500000</td>\n",
       "      <td>41.785714</td>\n",
       "    </tr>\n",
       "    <tr>\n",
       "      <th>75%</th>\n",
       "      <td>43.928571</td>\n",
       "      <td>44.285714</td>\n",
       "    </tr>\n",
       "    <tr>\n",
       "      <th>max</th>\n",
       "      <td>45.714286</td>\n",
       "      <td>46.428571</td>\n",
       "    </tr>\n",
       "  </tbody>\n",
       "</table>\n",
       "</div>"
      ],
      "text/plain": [
       "       ID_Improved    Student\n",
       "count    10.000000  10.000000\n",
       "mean     41.785714  41.214286\n",
       "std       2.842223   3.883946\n",
       "min      37.857143  34.285714\n",
       "25%      39.285714  38.928571\n",
       "50%      42.500000  41.785714\n",
       "75%      43.928571  44.285714\n",
       "max      45.714286  46.428571"
      ]
     },
     "execution_count": 17,
     "metadata": {},
     "output_type": "execute_result"
    }
   ],
   "source": [
    "d = build_dict('overlapping_results.log')\n",
    "df3 = pd.DataFrame(d)\n",
    "df3['Heuristic'] = 'overlapping'\n",
    "df3['ID_Improved'] = pd.to_numeric(df3['ID_Improved'])\n",
    "df3['Student'] = pd.to_numeric(df3['Student'])\n",
    "df3[['ID_Improved','Student']].describe()"
   ]
  },
  {
   "cell_type": "code",
   "execution_count": 13,
   "metadata": {
    "collapsed": false,
    "scrolled": true
   },
   "outputs": [
    {
     "data": {
      "text/plain": [
       "<matplotlib.axes._subplots.AxesSubplot at 0x2e96c7e3940>"
      ]
     },
     "execution_count": 13,
     "metadata": {},
     "output_type": "execute_result"
    },
    {
     "data": {
      "image/png": "[encoded data removed]",
      "text/plain": [
       "<matplotlib.figure.Figure at 0x2e96c84deb8>"
      ]
     },
     "metadata": {},
     "output_type": "display_data"
    }
   ],
   "source": [
    "df3[['ID_Improved','Student']].plot()"
   ]
  },
  {
   "cell_type": "markdown",
   "metadata": {},
   "source": [
    "We can see our overlapping heuristic performed worst on average than the iterative deeping improved heuristic.  This doesn't seem to be a good approach and possibly it may be more beneficial looking at the number of non-overlapping moves."
   ]
  },
  {
   "cell_type": "markdown",
   "metadata": {},
   "source": [
    "## Heuristic 2: Number of Non Overlapping Moves\n",
    "\n",
    "This heuristic calculates the number of non-overlapping moves that it has with its opponent.  The intuition here is that if the player has more moves that are not in conflict with its opponent, it has more options to choose from and possibly covering board space that the opponent is not interested in exploring or cannot reach"
   ]
  },
  {
   "cell_type": "code",
   "execution_count": 20,
   "metadata": {
    "collapsed": false
   },
   "outputs": [
    {
     "data": {
      "text/html": [
       "<div>\n",
       "<table border=\"1\" class=\"dataframe\">\n",
       "  <thead>\n",
       "    <tr style=\"text-align: right;\">\n",
       "      <th></th>\n",
       "      <th>ID_Improved</th>\n",
       "      <th>Student</th>\n",
       "    </tr>\n",
       "  </thead>\n",
       "  <tbody>\n",
       "    <tr>\n",
       "      <th>count</th>\n",
       "      <td>10.000000</td>\n",
       "      <td>10.000000</td>\n",
       "    </tr>\n",
       "    <tr>\n",
       "      <th>mean</th>\n",
       "      <td>42.428571</td>\n",
       "      <td>72.714286</td>\n",
       "    </tr>\n",
       "    <tr>\n",
       "      <th>std</th>\n",
       "      <td>3.144300</td>\n",
       "      <td>2.124258</td>\n",
       "    </tr>\n",
       "    <tr>\n",
       "      <th>min</th>\n",
       "      <td>38.571429</td>\n",
       "      <td>70.000000</td>\n",
       "    </tr>\n",
       "    <tr>\n",
       "      <th>25%</th>\n",
       "      <td>40.714286</td>\n",
       "      <td>70.892857</td>\n",
       "    </tr>\n",
       "    <tr>\n",
       "      <th>50%</th>\n",
       "      <td>41.785714</td>\n",
       "      <td>72.857143</td>\n",
       "    </tr>\n",
       "    <tr>\n",
       "      <th>75%</th>\n",
       "      <td>44.642857</td>\n",
       "      <td>74.642857</td>\n",
       "    </tr>\n",
       "    <tr>\n",
       "      <th>max</th>\n",
       "      <td>48.571429</td>\n",
       "      <td>75.714286</td>\n",
       "    </tr>\n",
       "  </tbody>\n",
       "</table>\n",
       "</div>"
      ],
      "text/plain": [
       "       ID_Improved    Student\n",
       "count    10.000000  10.000000\n",
       "mean     42.428571  72.714286\n",
       "std       3.144300   2.124258\n",
       "min      38.571429  70.000000\n",
       "25%      40.714286  70.892857\n",
       "50%      41.785714  72.857143\n",
       "75%      44.642857  74.642857\n",
       "max      48.571429  75.714286"
      ]
     },
     "execution_count": 20,
     "metadata": {},
     "output_type": "execute_result"
    }
   ],
   "source": [
    "d = build_dict('non_overlapping_results.log')\n",
    "df2 = pd.DataFrame(d)\n",
    "df2['Heuristic'] = 'non_overlapping'\n",
    "df2['ID_Improved'] = pd.to_numeric(df2['ID_Improved'])\n",
    "df2['Student'] = pd.to_numeric(df2['Student'])\n",
    "df2[['ID_Improved','Student']].describe()"
   ]
  },
  {
   "cell_type": "code",
   "execution_count": 11,
   "metadata": {
    "collapsed": false
   },
   "outputs": [
    {
     "data": {
      "text/plain": [
       "<matplotlib.axes._subplots.AxesSubplot at 0x2e96c714780>"
      ]
     },
     "execution_count": 11,
     "metadata": {},
     "output_type": "execute_result"
    },
    {
     "data": {
      "image/png": "[encoded data removed]",
      "text/plain": [
       "<matplotlib.figure.Figure at 0x2e96c7655c0>"
      ]
     },
     "metadata": {},
     "output_type": "display_data"
    }
   ],
   "source": [
    "df2[['ID_Improved','Student']].plot()"
   ]
  },
  {
   "cell_type": "markdown",
   "metadata": {},
   "source": [
    "We can see there is an 30% increase in improvement over the iterative deepening agent.  It's worth noting that this technique seems to have small standard deviation from the mean value.  Based on these trial runs, it would seem that this heuristic performs consisently through multiple simulation runs."
   ]
  },
  {
   "cell_type": "markdown",
   "metadata": {},
   "source": [
    "## Heuristic 3: Number of Blank Spaces along Vertical split\n",
    "\n",
    "This heuristic calculates the number of blank spaces that are on the same side as the current location relative to a vertical pivot point at the midpoint of the board.  The intuition here is that if there are more blank spaces on the same side as the current location, then the player has more spaces in the future to move.  Since we are choosing the most optimal move for our opponent, then the number of blank spaces is a good indicator for our game agent. "
   ]
  },
  {
   "cell_type": "code",
   "execution_count": 23,
   "metadata": {
    "collapsed": false
   },
   "outputs": [
    {
     "data": {
      "text/html": [
       "<div>\n",
       "<table border=\"1\" class=\"dataframe\">\n",
       "  <thead>\n",
       "    <tr style=\"text-align: right;\">\n",
       "      <th></th>\n",
       "      <th>ID_Improved</th>\n",
       "      <th>Student</th>\n",
       "    </tr>\n",
       "  </thead>\n",
       "  <tbody>\n",
       "    <tr>\n",
       "      <th>count</th>\n",
       "      <td>10.000000</td>\n",
       "      <td>10.000000</td>\n",
       "    </tr>\n",
       "    <tr>\n",
       "      <th>mean</th>\n",
       "      <td>41.571429</td>\n",
       "      <td>78.285714</td>\n",
       "    </tr>\n",
       "    <tr>\n",
       "      <th>std</th>\n",
       "      <td>4.065786</td>\n",
       "      <td>3.502510</td>\n",
       "    </tr>\n",
       "    <tr>\n",
       "      <th>min</th>\n",
       "      <td>35.714286</td>\n",
       "      <td>73.571429</td>\n",
       "    </tr>\n",
       "    <tr>\n",
       "      <th>25%</th>\n",
       "      <td>38.571429</td>\n",
       "      <td>76.071429</td>\n",
       "    </tr>\n",
       "    <tr>\n",
       "      <th>50%</th>\n",
       "      <td>41.785714</td>\n",
       "      <td>77.857143</td>\n",
       "    </tr>\n",
       "    <tr>\n",
       "      <th>75%</th>\n",
       "      <td>45.357143</td>\n",
       "      <td>79.464286</td>\n",
       "    </tr>\n",
       "    <tr>\n",
       "      <th>max</th>\n",
       "      <td>46.428571</td>\n",
       "      <td>85.000000</td>\n",
       "    </tr>\n",
       "  </tbody>\n",
       "</table>\n",
       "</div>"
      ],
      "text/plain": [
       "       ID_Improved    Student\n",
       "count    10.000000  10.000000\n",
       "mean     41.571429  78.285714\n",
       "std       4.065786   3.502510\n",
       "min      35.714286  73.571429\n",
       "25%      38.571429  76.071429\n",
       "50%      41.785714  77.857143\n",
       "75%      45.357143  79.464286\n",
       "max      46.428571  85.000000"
      ]
     },
     "execution_count": 23,
     "metadata": {},
     "output_type": "execute_result"
    }
   ],
   "source": [
    "d = build_dict('blank_space_results.log')\n",
    "df1 = pd.DataFrame(d)\n",
    "df1['Heuristic'] = 'blank space'\n",
    "df1['ID_Improved'] = pd.to_numeric(df1['ID_Improved'])\n",
    "df1['Student'] = pd.to_numeric(df1['Student'])\n",
    "df1[['ID_Improved','Student']].describe()"
   ]
  },
  {
   "cell_type": "code",
   "execution_count": 9,
   "metadata": {
    "collapsed": false
   },
   "outputs": [
    {
     "data": {
      "text/plain": [
       "<matplotlib.axes._subplots.AxesSubplot at 0x2e96c6e35f8>"
      ]
     },
     "execution_count": 9,
     "metadata": {},
     "output_type": "execute_result"
    },
    {
     "data": {
      "image/png": "[encoded data removed]",
      "text/plain": [
       "<matplotlib.figure.Figure at 0x2e96c6f5da0>"
      ]
     },
     "metadata": {},
     "output_type": "display_data"
    }
   ],
   "source": [
    "df1[['ID_Improved','Student']].plot()"
   ]
  },
  {
   "cell_type": "markdown",
   "metadata": {},
   "source": [
    "We can see that this heuristic performs the best with a 37% increase which is almost a 2X improvement over the iterative deepening heuristic.  This heuristic at a minimum performs better than the average performance of the non overlapping heuristic.  It also worth noting that this heuristic captured a win ratio of 85% which is pretty impressive for a simple heuristic approach.\n",
    "\n",
    "Below we illustrate a table of the raw values of all the simulation runs captured during this analysis."
   ]
  },
  {
   "cell_type": "code",
   "execution_count": 14,
   "metadata": {
    "collapsed": false,
    "scrolled": true
   },
   "outputs": [
    {
     "data": {
      "text/html": [
       "<div>\n",
       "<table border=\"1\" class=\"dataframe\">\n",
       "  <thead>\n",
       "    <tr style=\"text-align: right;\">\n",
       "      <th></th>\n",
       "      <th>ID_Improved</th>\n",
       "      <th>Student</th>\n",
       "      <th>Test Run</th>\n",
       "      <th>Heuristic</th>\n",
       "    </tr>\n",
       "  </thead>\n",
       "  <tbody>\n",
       "    <tr>\n",
       "      <th>0</th>\n",
       "      <td>42.142857</td>\n",
       "      <td>85.000000</td>\n",
       "      <td>1</td>\n",
       "      <td>blank space</td>\n",
       "    </tr>\n",
       "    <tr>\n",
       "      <th>1</th>\n",
       "      <td>46.428571</td>\n",
       "      <td>73.571429</td>\n",
       "      <td>2</td>\n",
       "      <td>blank space</td>\n",
       "    </tr>\n",
       "    <tr>\n",
       "      <th>2</th>\n",
       "      <td>37.857143</td>\n",
       "      <td>77.857143</td>\n",
       "      <td>3</td>\n",
       "      <td>blank space</td>\n",
       "    </tr>\n",
       "    <tr>\n",
       "      <th>3</th>\n",
       "      <td>40.714286</td>\n",
       "      <td>77.142857</td>\n",
       "      <td>4</td>\n",
       "      <td>blank space</td>\n",
       "    </tr>\n",
       "    <tr>\n",
       "      <th>4</th>\n",
       "      <td>44.285714</td>\n",
       "      <td>77.857143</td>\n",
       "      <td>5</td>\n",
       "      <td>blank space</td>\n",
       "    </tr>\n",
       "    <tr>\n",
       "      <th>5</th>\n",
       "      <td>41.428571</td>\n",
       "      <td>77.857143</td>\n",
       "      <td>6</td>\n",
       "      <td>blank space</td>\n",
       "    </tr>\n",
       "    <tr>\n",
       "      <th>6</th>\n",
       "      <td>45.714286</td>\n",
       "      <td>75.714286</td>\n",
       "      <td>7</td>\n",
       "      <td>blank space</td>\n",
       "    </tr>\n",
       "    <tr>\n",
       "      <th>7</th>\n",
       "      <td>45.714286</td>\n",
       "      <td>75.000000</td>\n",
       "      <td>8</td>\n",
       "      <td>blank space</td>\n",
       "    </tr>\n",
       "    <tr>\n",
       "      <th>8</th>\n",
       "      <td>35.714286</td>\n",
       "      <td>80.000000</td>\n",
       "      <td>9</td>\n",
       "      <td>blank space</td>\n",
       "    </tr>\n",
       "    <tr>\n",
       "      <th>9</th>\n",
       "      <td>35.714286</td>\n",
       "      <td>82.857143</td>\n",
       "      <td>10</td>\n",
       "      <td>blank space</td>\n",
       "    </tr>\n",
       "    <tr>\n",
       "      <th>0</th>\n",
       "      <td>43.571429</td>\n",
       "      <td>75.714286</td>\n",
       "      <td>1</td>\n",
       "      <td>non_overlapping</td>\n",
       "    </tr>\n",
       "    <tr>\n",
       "      <th>1</th>\n",
       "      <td>40.714286</td>\n",
       "      <td>70.000000</td>\n",
       "      <td>2</td>\n",
       "      <td>non_overlapping</td>\n",
       "    </tr>\n",
       "    <tr>\n",
       "      <th>2</th>\n",
       "      <td>48.571429</td>\n",
       "      <td>70.714286</td>\n",
       "      <td>3</td>\n",
       "      <td>non_overlapping</td>\n",
       "    </tr>\n",
       "    <tr>\n",
       "      <th>3</th>\n",
       "      <td>45.000000</td>\n",
       "      <td>72.857143</td>\n",
       "      <td>4</td>\n",
       "      <td>non_overlapping</td>\n",
       "    </tr>\n",
       "    <tr>\n",
       "      <th>4</th>\n",
       "      <td>38.571429</td>\n",
       "      <td>75.000000</td>\n",
       "      <td>5</td>\n",
       "      <td>non_overlapping</td>\n",
       "    </tr>\n",
       "    <tr>\n",
       "      <th>5</th>\n",
       "      <td>40.714286</td>\n",
       "      <td>71.428571</td>\n",
       "      <td>6</td>\n",
       "      <td>non_overlapping</td>\n",
       "    </tr>\n",
       "    <tr>\n",
       "      <th>6</th>\n",
       "      <td>41.428571</td>\n",
       "      <td>75.000000</td>\n",
       "      <td>7</td>\n",
       "      <td>non_overlapping</td>\n",
       "    </tr>\n",
       "    <tr>\n",
       "      <th>7</th>\n",
       "      <td>42.142857</td>\n",
       "      <td>72.857143</td>\n",
       "      <td>8</td>\n",
       "      <td>non_overlapping</td>\n",
       "    </tr>\n",
       "    <tr>\n",
       "      <th>8</th>\n",
       "      <td>38.571429</td>\n",
       "      <td>70.000000</td>\n",
       "      <td>9</td>\n",
       "      <td>non_overlapping</td>\n",
       "    </tr>\n",
       "    <tr>\n",
       "      <th>9</th>\n",
       "      <td>45.000000</td>\n",
       "      <td>73.571429</td>\n",
       "      <td>10</td>\n",
       "      <td>non_overlapping</td>\n",
       "    </tr>\n",
       "    <tr>\n",
       "      <th>0</th>\n",
       "      <td>39.285714</td>\n",
       "      <td>38.571429</td>\n",
       "      <td>1</td>\n",
       "      <td>overlapping</td>\n",
       "    </tr>\n",
       "    <tr>\n",
       "      <th>1</th>\n",
       "      <td>42.857143</td>\n",
       "      <td>44.285714</td>\n",
       "      <td>2</td>\n",
       "      <td>overlapping</td>\n",
       "    </tr>\n",
       "    <tr>\n",
       "      <th>2</th>\n",
       "      <td>44.285714</td>\n",
       "      <td>44.285714</td>\n",
       "      <td>3</td>\n",
       "      <td>overlapping</td>\n",
       "    </tr>\n",
       "    <tr>\n",
       "      <th>3</th>\n",
       "      <td>39.285714</td>\n",
       "      <td>36.428571</td>\n",
       "      <td>4</td>\n",
       "      <td>overlapping</td>\n",
       "    </tr>\n",
       "    <tr>\n",
       "      <th>4</th>\n",
       "      <td>42.142857</td>\n",
       "      <td>34.285714</td>\n",
       "      <td>5</td>\n",
       "      <td>overlapping</td>\n",
       "    </tr>\n",
       "    <tr>\n",
       "      <th>5</th>\n",
       "      <td>37.857143</td>\n",
       "      <td>41.428571</td>\n",
       "      <td>6</td>\n",
       "      <td>overlapping</td>\n",
       "    </tr>\n",
       "    <tr>\n",
       "      <th>6</th>\n",
       "      <td>45.714286</td>\n",
       "      <td>42.142857</td>\n",
       "      <td>7</td>\n",
       "      <td>overlapping</td>\n",
       "    </tr>\n",
       "    <tr>\n",
       "      <th>7</th>\n",
       "      <td>38.571429</td>\n",
       "      <td>44.285714</td>\n",
       "      <td>8</td>\n",
       "      <td>overlapping</td>\n",
       "    </tr>\n",
       "    <tr>\n",
       "      <th>8</th>\n",
       "      <td>45.000000</td>\n",
       "      <td>46.428571</td>\n",
       "      <td>9</td>\n",
       "      <td>overlapping</td>\n",
       "    </tr>\n",
       "    <tr>\n",
       "      <th>9</th>\n",
       "      <td>42.857143</td>\n",
       "      <td>40.000000</td>\n",
       "      <td>10</td>\n",
       "      <td>overlapping</td>\n",
       "    </tr>\n",
       "  </tbody>\n",
       "</table>\n",
       "</div>"
      ],
      "text/plain": [
       "   ID_Improved    Student  Test Run        Heuristic\n",
       "0    42.142857  85.000000         1      blank space\n",
       "1    46.428571  73.571429         2      blank space\n",
       "2    37.857143  77.857143         3      blank space\n",
       "3    40.714286  77.142857         4      blank space\n",
       "4    44.285714  77.857143         5      blank space\n",
       "5    41.428571  77.857143         6      blank space\n",
       "6    45.714286  75.714286         7      blank space\n",
       "7    45.714286  75.000000         8      blank space\n",
       "8    35.714286  80.000000         9      blank space\n",
       "9    35.714286  82.857143        10      blank space\n",
       "0    43.571429  75.714286         1  non_overlapping\n",
       "1    40.714286  70.000000         2  non_overlapping\n",
       "2    48.571429  70.714286         3  non_overlapping\n",
       "3    45.000000  72.857143         4  non_overlapping\n",
       "4    38.571429  75.000000         5  non_overlapping\n",
       "5    40.714286  71.428571         6  non_overlapping\n",
       "6    41.428571  75.000000         7  non_overlapping\n",
       "7    42.142857  72.857143         8  non_overlapping\n",
       "8    38.571429  70.000000         9  non_overlapping\n",
       "9    45.000000  73.571429        10  non_overlapping\n",
       "0    39.285714  38.571429         1      overlapping\n",
       "1    42.857143  44.285714         2      overlapping\n",
       "2    44.285714  44.285714         3      overlapping\n",
       "3    39.285714  36.428571         4      overlapping\n",
       "4    42.142857  34.285714         5      overlapping\n",
       "5    37.857143  41.428571         6      overlapping\n",
       "6    45.714286  42.142857         7      overlapping\n",
       "7    38.571429  44.285714         8      overlapping\n",
       "8    45.000000  46.428571         9      overlapping\n",
       "9    42.857143  40.000000        10      overlapping"
      ]
     },
     "execution_count": 14,
     "metadata": {},
     "output_type": "execute_result"
    }
   ],
   "source": [
    "df = pd.concat([df1,df2,df3])\n",
    "df"
   ]
  },
  {
   "cell_type": "markdown",
   "metadata": {},
   "source": [
    "## Recommendation\n",
    "\n",
    "I would recommend the **blank spaces** heuristic as it is shown to be a simple yet powerful heuristic. The simplicity of its implementation allows for it to be computed efficiently so that more time can be used for searching and exploring other branches within the search tree.  At a minimum it has shown to give a 73% win ratio and its best performance was shown to be 85% is a 2X improvement over the average itertive deepening heuristic approach.  It has also been shown to have a small standard deviation therefore we can expect consistent results across multiple simulation runs."
   ]
  }
 ],
 "metadata": {
  "kernelspec": {
   "display_name": "Python 3",
   "language": "python",
   "name": "python3"
  },
  "language_info": {
   "codemirror_mode": {
    "name": "ipython",
    "version": 3
   },
   "file_extension": ".py",
   "mimetype": "text/x-python",
   "name": "python",
   "nbconvert_exporter": "python",
   "pygments_lexer": "ipython3",
   "version": "3.6.0"
  }
 },
 "nbformat": 4,
 "nbformat_minor": 2
}
